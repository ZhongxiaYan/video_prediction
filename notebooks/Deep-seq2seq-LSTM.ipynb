{
 "cells": [
  {
   "cell_type": "code",
   "execution_count": 1,
   "metadata": {
    "ExecuteTime": {
     "end_time": "2017-05-02T19:01:11.373246",
     "start_time": "2017-05-02T12:01:03.248376-07:00"
    },
    "collapsed": false
   },
   "outputs": [],
   "source": [
    "%matplotlib inline\n",
    "import matplotlib.pyplot as plt\n",
    "import numpy as np\n",
    "from scipy.io import loadmat\n",
    "import os\n",
    "os.environ[\"CUDA_VISIBLE_DEVICES\"]=\"1\"\n",
    "from __future__ import print_function\n",
    "\n",
    "import tensorflow as tf\n",
    "from tensorflow.contrib import rnn\n",
    "from tensorflow.contrib import legacy_seq2seq"
   ]
  },
  {
   "cell_type": "code",
   "execution_count": 2,
   "metadata": {
    "collapsed": false,
    "scrolled": true
   },
   "outputs": [
    {
     "name": "stdout",
     "output_type": "stream",
     "text": [
      "[name: \"/cpu:0\"\n",
      "device_type: \"CPU\"\n",
      "memory_limit: 268435456\n",
      "locality {\n",
      "}\n",
      "incarnation: 11842675700725631814\n",
      ", name: \"/gpu:0\"\n",
      "device_type: \"GPU\"\n",
      "memory_limit: 5314314240\n",
      "locality {\n",
      "  bus_id: 1\n",
      "}\n",
      "incarnation: 4046884581449423603\n",
      "physical_device_desc: \"device: 0, name: GeForce GTX 980 Ti, pci bus id: 0000:01:00.0\"\n",
      "]\n"
     ]
    }
   ],
   "source": [
    "from tensorflow.python.client import device_lib\n",
    "print(device_lib.list_local_devices())"
   ]
  },
  {
   "cell_type": "markdown",
   "metadata": {},
   "source": [
    "# Process Joint Labels"
   ]
  },
  {
   "cell_type": "code",
   "execution_count": 3,
   "metadata": {
    "ExecuteTime": {
     "end_time": "2017-05-02T21:46:13.737255",
     "start_time": "2017-05-02T14:46:11.593890-07:00"
    },
    "collapsed": false
   },
   "outputs": [],
   "source": [
    "directory = 'labels/'\n",
    "frames = []\n",
    "for filename in os.listdir(directory):\n",
    "    annotations = loadmat(directory + filename)\n",
    "    if annotations['action'][0] == 'squat':\n",
    "        # Create Nx13x2 joint labels for each video\n",
    "        frames.append(np.stack([annotations['x'], annotations['y']], axis=2))"
   ]
  },
  {
   "cell_type": "code",
   "execution_count": 4,
   "metadata": {
    "collapsed": false
   },
   "outputs": [],
   "source": [
    "# Keep only videos with more than 70 image frames\n",
    "top_frames = []\n",
    "for i in range(231):\n",
    "    if frames[i].shape[0] > 70:\n",
    "        top_frames.append(frames[i])\n",
    "\n",
    "\n",
    "frames_train = [top_frames[0]]\n",
    "frames_test = top_frames[150:]"
   ]
  },
  {
   "cell_type": "code",
   "execution_count": 5,
   "metadata": {
    "collapsed": false
   },
   "outputs": [
    {
     "data": {
      "text/plain": [
       "185"
      ]
     },
     "execution_count": 5,
     "metadata": {},
     "output_type": "execute_result"
    }
   ],
   "source": [
    "len(top_frames)"
   ]
  },
  {
   "cell_type": "markdown",
   "metadata": {},
   "source": [
    "# LSTM Params"
   ]
  },
  {
   "cell_type": "code",
   "execution_count": 6,
   "metadata": {
    "ExecuteTime": {
     "end_time": "2017-05-02T22:07:31.218304",
     "start_time": "2017-05-02T15:07:31.211298-07:00"
    },
    "collapsed": false
   },
   "outputs": [],
   "source": [
    "L = 13 # num of joints\n",
    "k = 50 # training num\n",
    "T = 10 # prediction num\n",
    "H = 1024 # hidden layer size"
   ]
  },
  {
   "cell_type": "code",
   "execution_count": 9,
   "metadata": {
    "ExecuteTime": {
     "end_time": "2017-05-02T22:07:51.273682",
     "start_time": "2017-05-02T15:07:51.249663-07:00"
    },
    "collapsed": false
   },
   "outputs": [],
   "source": [
    "def RNN(p, weights, biases):\n",
    "    # p should be shape (batch_size, T, 2 * L)\n",
    "    # unstack gets us a list of T (batch_size, 2 * L) tensors\n",
    "    stacked_lstm = rnn.MultiRNNCell([rnn.BasicLSTMCell(H, forget_bias=1.0) for _ in range(2)])\n",
    "    batch_size = tf.shape(p)[0]\n",
    "    p = tf.unstack(p, k, axis=1)\n",
    "    outputs, states = legacy_seq2seq.basic_rnn_seq2seq(p,  [p[-1]]*T, stacked_lstm)\n",
    "    \n",
    "    # outputs is a list of T (batch_size, H) arrays\n",
    "    # concat outputs is (batch_size * T, H)\n",
    "    concat_outputs = tf.concat(outputs, axis=0)\n",
    "    \n",
    "    # predictions is (batch_size * T, 2 * L)\n",
    "    predictions = tf.matmul(concat_outputs, weights) + biases\n",
    "    \n",
    "    # reshape into (T, batch_size, 2 * L) then transpose into (batch_size, T, 2 * L)\n",
    "    return tf.transpose(tf.reshape(predictions, (T, batch_size, L * 2)), perm=[1, 0, 2])"
   ]
  },
  {
   "cell_type": "code",
   "execution_count": 10,
   "metadata": {
    "ExecuteTime": {
     "end_time": "2017-05-02T22:17:11.426069",
     "start_time": "2017-05-02T15:17:06.520790-07:00"
    },
    "collapsed": false
   },
   "outputs": [],
   "source": [
    "tf.reset_default_graph()\n",
    "\n",
    "# Parameters\n",
    "learning_rate = 0.001\n",
    "epochs = 2000\n",
    "batch_size = 10\n",
    "n_videos = len(frames_train)\n",
    "display_step = 50\n",
    "\n",
    "p_input = tf.placeholder(tf.float32, shape=[None, k, L*2])\n",
    "p_output = tf.placeholder(tf.float32, shape=[p_input.get_shape()[0], T, L*2])\n",
    "\n",
    "W = tf.get_variable('W', shape=[H, L*2], dtype=tf.float32, initializer=tf.contrib.layers.xavier_initializer())\n",
    "b = tf.get_variable('b', shape=[L*2], dtype=tf.float32, initializer=tf.zeros_initializer())\n",
    "\n",
    "p_output_predicted = RNN(p_input, W, b)\n",
    "\n",
    "# Define loss and optimizer\n",
    "loss = tf.reduce_mean(tf.squared_difference(p_output_predicted, p_output))\n",
    "optimizer = tf.train.AdamOptimizer(learning_rate=learning_rate).minimize(loss)"
   ]
  },
  {
   "cell_type": "markdown",
   "metadata": {},
   "source": [
    "# LSTM Training/Validation"
   ]
  },
  {
   "cell_type": "code",
   "execution_count": 11,
   "metadata": {
    "ExecuteTime": {
     "end_time": "2017-05-02T22:17:29.881200",
     "start_time": "2017-05-02T15:17:22.809978-07:00"
    },
    "collapsed": false,
    "scrolled": true
   },
   "outputs": [
    {
     "name": "stdout",
     "output_type": "stream",
     "text": [
      "epoch 50: loss=19680.8945\n",
      "epoch 100: loss=9186.8867\n",
      "epoch 150: loss=6345.3774\n",
      "epoch 200: loss=2791.2385\n",
      "epoch 250: loss=1359.3522\n",
      "epoch 300: loss=750.0790\n",
      "epoch 350: loss=260.6786\n",
      "epoch 400: loss=178.7072\n",
      "epoch 450: loss=121.1581\n",
      "epoch 500: loss=49.6798\n",
      "epoch 550: loss=402.5173\n",
      "epoch 600: loss=16.3720\n",
      "epoch 650: loss=118.3894\n",
      "epoch 700: loss=8.9969\n",
      "epoch 750: loss=425.2588\n",
      "epoch 800: loss=97.8069\n"
     ]
    },
    {
     "ename": "KeyboardInterrupt",
     "evalue": "",
     "output_type": "error",
     "traceback": [
      "\u001b[1;31m---------------------------------------------------------------------------\u001b[0m",
      "\u001b[1;31mKeyboardInterrupt\u001b[0m                         Traceback (most recent call last)",
      "\u001b[1;32m<ipython-input-11-a503b2c98714>\u001b[0m in \u001b[0;36m<module>\u001b[1;34m()\u001b[0m\n\u001b[0;32m     15\u001b[0m             \u001b[0minputs\u001b[0m\u001b[1;33m.\u001b[0m\u001b[0mappend\u001b[0m\u001b[1;33m(\u001b[0m\u001b[0mframe\u001b[0m\u001b[1;33m[\u001b[0m\u001b[0mstart_time\u001b[0m \u001b[1;33m:\u001b[0m \u001b[0mstart_time\u001b[0m \u001b[1;33m+\u001b[0m \u001b[0mk\u001b[0m\u001b[1;33m]\u001b[0m\u001b[1;33m.\u001b[0m\u001b[0mreshape\u001b[0m\u001b[1;33m(\u001b[0m\u001b[0mk\u001b[0m\u001b[1;33m,\u001b[0m \u001b[1;36m2\u001b[0m \u001b[1;33m*\u001b[0m \u001b[0mL\u001b[0m\u001b[1;33m)\u001b[0m\u001b[1;33m)\u001b[0m\u001b[1;33m\u001b[0m\u001b[0m\n\u001b[0;32m     16\u001b[0m             \u001b[0mexpected_outputs\u001b[0m\u001b[1;33m.\u001b[0m\u001b[0mappend\u001b[0m\u001b[1;33m(\u001b[0m\u001b[0mframe\u001b[0m\u001b[1;33m[\u001b[0m\u001b[0mstart_time\u001b[0m \u001b[1;33m+\u001b[0m \u001b[0mk\u001b[0m \u001b[1;33m:\u001b[0m \u001b[0mstart_time\u001b[0m \u001b[1;33m+\u001b[0m \u001b[0mk\u001b[0m \u001b[1;33m+\u001b[0m \u001b[0mT\u001b[0m\u001b[1;33m]\u001b[0m\u001b[1;33m.\u001b[0m\u001b[0mreshape\u001b[0m\u001b[1;33m(\u001b[0m\u001b[0mT\u001b[0m\u001b[1;33m,\u001b[0m \u001b[1;36m2\u001b[0m \u001b[1;33m*\u001b[0m \u001b[0mL\u001b[0m\u001b[1;33m)\u001b[0m\u001b[1;33m)\u001b[0m\u001b[1;33m\u001b[0m\u001b[0m\n\u001b[1;32m---> 17\u001b[1;33m         \u001b[0m_\u001b[0m\u001b[1;33m,\u001b[0m \u001b[0mloss_value\u001b[0m \u001b[1;33m=\u001b[0m \u001b[0msess\u001b[0m\u001b[1;33m.\u001b[0m\u001b[0mrun\u001b[0m\u001b[1;33m(\u001b[0m\u001b[1;33m(\u001b[0m\u001b[0moptimizer\u001b[0m\u001b[1;33m,\u001b[0m \u001b[0mloss\u001b[0m\u001b[1;33m)\u001b[0m\u001b[1;33m,\u001b[0m \u001b[0mfeed_dict\u001b[0m\u001b[1;33m=\u001b[0m\u001b[1;33m{\u001b[0m \u001b[0mp_input\u001b[0m \u001b[1;33m:\u001b[0m \u001b[0mnp\u001b[0m\u001b[1;33m.\u001b[0m\u001b[0masarray\u001b[0m\u001b[1;33m(\u001b[0m\u001b[0minputs\u001b[0m\u001b[1;33m)\u001b[0m\u001b[1;33m,\u001b[0m \u001b[0mp_output\u001b[0m \u001b[1;33m:\u001b[0m \u001b[0mnp\u001b[0m\u001b[1;33m.\u001b[0m\u001b[0masarray\u001b[0m\u001b[1;33m(\u001b[0m\u001b[0mexpected_outputs\u001b[0m\u001b[1;33m)\u001b[0m \u001b[1;33m}\u001b[0m\u001b[1;33m)\u001b[0m\u001b[1;33m\u001b[0m\u001b[0m\n\u001b[0m\u001b[0;32m     18\u001b[0m         \u001b[0mtotal_loss\u001b[0m \u001b[1;33m+=\u001b[0m \u001b[0mloss_value\u001b[0m\u001b[1;33m\u001b[0m\u001b[0m\n\u001b[0;32m     19\u001b[0m     \u001b[0mmean_loss\u001b[0m \u001b[1;33m=\u001b[0m \u001b[0mtotal_loss\u001b[0m \u001b[1;33m/\u001b[0m \u001b[0mtotal_iter\u001b[0m\u001b[1;33m\u001b[0m\u001b[0m\n",
      "\u001b[1;32m/home/jeffzhang/anaconda2/lib/python2.7/site-packages/tensorflow/python/client/session.pyc\u001b[0m in \u001b[0;36mrun\u001b[1;34m(self, fetches, feed_dict, options, run_metadata)\u001b[0m\n\u001b[0;32m    776\u001b[0m     \u001b[1;32mtry\u001b[0m\u001b[1;33m:\u001b[0m\u001b[1;33m\u001b[0m\u001b[0m\n\u001b[0;32m    777\u001b[0m       result = self._run(None, fetches, feed_dict, options_ptr,\n\u001b[1;32m--> 778\u001b[1;33m                          run_metadata_ptr)\n\u001b[0m\u001b[0;32m    779\u001b[0m       \u001b[1;32mif\u001b[0m \u001b[0mrun_metadata\u001b[0m\u001b[1;33m:\u001b[0m\u001b[1;33m\u001b[0m\u001b[0m\n\u001b[0;32m    780\u001b[0m         \u001b[0mproto_data\u001b[0m \u001b[1;33m=\u001b[0m \u001b[0mtf_session\u001b[0m\u001b[1;33m.\u001b[0m\u001b[0mTF_GetBuffer\u001b[0m\u001b[1;33m(\u001b[0m\u001b[0mrun_metadata_ptr\u001b[0m\u001b[1;33m)\u001b[0m\u001b[1;33m\u001b[0m\u001b[0m\n",
      "\u001b[1;32m/home/jeffzhang/anaconda2/lib/python2.7/site-packages/tensorflow/python/client/session.pyc\u001b[0m in \u001b[0;36m_run\u001b[1;34m(self, handle, fetches, feed_dict, options, run_metadata)\u001b[0m\n\u001b[0;32m    980\u001b[0m     \u001b[1;32mif\u001b[0m \u001b[0mfinal_fetches\u001b[0m \u001b[1;32mor\u001b[0m \u001b[0mfinal_targets\u001b[0m\u001b[1;33m:\u001b[0m\u001b[1;33m\u001b[0m\u001b[0m\n\u001b[0;32m    981\u001b[0m       results = self._do_run(handle, final_targets, final_fetches,\n\u001b[1;32m--> 982\u001b[1;33m                              feed_dict_string, options, run_metadata)\n\u001b[0m\u001b[0;32m    983\u001b[0m     \u001b[1;32melse\u001b[0m\u001b[1;33m:\u001b[0m\u001b[1;33m\u001b[0m\u001b[0m\n\u001b[0;32m    984\u001b[0m       \u001b[0mresults\u001b[0m \u001b[1;33m=\u001b[0m \u001b[1;33m[\u001b[0m\u001b[1;33m]\u001b[0m\u001b[1;33m\u001b[0m\u001b[0m\n",
      "\u001b[1;32m/home/jeffzhang/anaconda2/lib/python2.7/site-packages/tensorflow/python/client/session.pyc\u001b[0m in \u001b[0;36m_do_run\u001b[1;34m(self, handle, target_list, fetch_list, feed_dict, options, run_metadata)\u001b[0m\n\u001b[0;32m   1030\u001b[0m     \u001b[1;32mif\u001b[0m \u001b[0mhandle\u001b[0m \u001b[1;32mis\u001b[0m \u001b[0mNone\u001b[0m\u001b[1;33m:\u001b[0m\u001b[1;33m\u001b[0m\u001b[0m\n\u001b[0;32m   1031\u001b[0m       return self._do_call(_run_fn, self._session, feed_dict, fetch_list,\n\u001b[1;32m-> 1032\u001b[1;33m                            target_list, options, run_metadata)\n\u001b[0m\u001b[0;32m   1033\u001b[0m     \u001b[1;32melse\u001b[0m\u001b[1;33m:\u001b[0m\u001b[1;33m\u001b[0m\u001b[0m\n\u001b[0;32m   1034\u001b[0m       return self._do_call(_prun_fn, self._session, handle, feed_dict,\n",
      "\u001b[1;32m/home/jeffzhang/anaconda2/lib/python2.7/site-packages/tensorflow/python/client/session.pyc\u001b[0m in \u001b[0;36m_do_call\u001b[1;34m(self, fn, *args)\u001b[0m\n\u001b[0;32m   1037\u001b[0m   \u001b[1;32mdef\u001b[0m \u001b[0m_do_call\u001b[0m\u001b[1;33m(\u001b[0m\u001b[0mself\u001b[0m\u001b[1;33m,\u001b[0m \u001b[0mfn\u001b[0m\u001b[1;33m,\u001b[0m \u001b[1;33m*\u001b[0m\u001b[0margs\u001b[0m\u001b[1;33m)\u001b[0m\u001b[1;33m:\u001b[0m\u001b[1;33m\u001b[0m\u001b[0m\n\u001b[0;32m   1038\u001b[0m     \u001b[1;32mtry\u001b[0m\u001b[1;33m:\u001b[0m\u001b[1;33m\u001b[0m\u001b[0m\n\u001b[1;32m-> 1039\u001b[1;33m       \u001b[1;32mreturn\u001b[0m \u001b[0mfn\u001b[0m\u001b[1;33m(\u001b[0m\u001b[1;33m*\u001b[0m\u001b[0margs\u001b[0m\u001b[1;33m)\u001b[0m\u001b[1;33m\u001b[0m\u001b[0m\n\u001b[0m\u001b[0;32m   1040\u001b[0m     \u001b[1;32mexcept\u001b[0m \u001b[0merrors\u001b[0m\u001b[1;33m.\u001b[0m\u001b[0mOpError\u001b[0m \u001b[1;32mas\u001b[0m \u001b[0me\u001b[0m\u001b[1;33m:\u001b[0m\u001b[1;33m\u001b[0m\u001b[0m\n\u001b[0;32m   1041\u001b[0m       \u001b[0mmessage\u001b[0m \u001b[1;33m=\u001b[0m \u001b[0mcompat\u001b[0m\u001b[1;33m.\u001b[0m\u001b[0mas_text\u001b[0m\u001b[1;33m(\u001b[0m\u001b[0me\u001b[0m\u001b[1;33m.\u001b[0m\u001b[0mmessage\u001b[0m\u001b[1;33m)\u001b[0m\u001b[1;33m\u001b[0m\u001b[0m\n",
      "\u001b[1;32m/home/jeffzhang/anaconda2/lib/python2.7/site-packages/tensorflow/python/client/session.pyc\u001b[0m in \u001b[0;36m_run_fn\u001b[1;34m(session, feed_dict, fetch_list, target_list, options, run_metadata)\u001b[0m\n\u001b[0;32m   1019\u001b[0m         return tf_session.TF_Run(session, options,\n\u001b[0;32m   1020\u001b[0m                                  \u001b[0mfeed_dict\u001b[0m\u001b[1;33m,\u001b[0m \u001b[0mfetch_list\u001b[0m\u001b[1;33m,\u001b[0m \u001b[0mtarget_list\u001b[0m\u001b[1;33m,\u001b[0m\u001b[1;33m\u001b[0m\u001b[0m\n\u001b[1;32m-> 1021\u001b[1;33m                                  status, run_metadata)\n\u001b[0m\u001b[0;32m   1022\u001b[0m \u001b[1;33m\u001b[0m\u001b[0m\n\u001b[0;32m   1023\u001b[0m     \u001b[1;32mdef\u001b[0m \u001b[0m_prun_fn\u001b[0m\u001b[1;33m(\u001b[0m\u001b[0msession\u001b[0m\u001b[1;33m,\u001b[0m \u001b[0mhandle\u001b[0m\u001b[1;33m,\u001b[0m \u001b[0mfeed_dict\u001b[0m\u001b[1;33m,\u001b[0m \u001b[0mfetch_list\u001b[0m\u001b[1;33m)\u001b[0m\u001b[1;33m:\u001b[0m\u001b[1;33m\u001b[0m\u001b[0m\n",
      "\u001b[1;31mKeyboardInterrupt\u001b[0m: "
     ]
    }
   ],
   "source": [
    "sess = tf.Session()\n",
    "sess.run(tf.global_variables_initializer())\n",
    "# saver = tf.train.Saver()\n",
    "# saver.restore(sess, 'lstm-reg-20000')\n",
    "mean_losses = []\n",
    "for epoch in range(epochs):\n",
    "    total_iter = n_videos // batch_size\n",
    "    total_iter = 1\n",
    "    total_loss = 0\n",
    "    for i in range(total_iter):\n",
    "        inputs = []\n",
    "        expected_outputs = []\n",
    "        for frame in frames_train:\n",
    "            start_time =  np.random.randint(frame.shape[0] - (k + T) + 1)\n",
    "            inputs.append(frame[start_time : start_time + k].reshape(k, 2 * L))\n",
    "            expected_outputs.append(frame[start_time + k : start_time + k + T].reshape(T, 2 * L))\n",
    "        _, loss_value = sess.run((optimizer, loss), feed_dict={ p_input : np.asarray(inputs), p_output : np.asarray(expected_outputs) })\n",
    "        total_loss += loss_value\n",
    "    mean_loss = total_loss / total_iter\n",
    "    mean_losses.append(mean_loss)\n",
    "    if (epoch + 1) % display_step == 0:\n",
    "        print('epoch %s: loss=%.4f' % (epoch + 1, mean_loss))"
   ]
  },
  {
   "cell_type": "code",
   "execution_count": 15,
   "metadata": {
    "collapsed": false
   },
   "outputs": [],
   "source": [
    "inputs = []\n",
    "expected_outputs = []\n",
    "for frame in frames_train:\n",
    "    start_time =  np.random.randint(frame.shape[0] - (k + T) + 1)\n",
    "    inputs.append(frame[start_time : start_time + k].reshape(k, 2 * L))\n",
    "    expected_outputs.append(frame[start_time + k : start_time + k + T].reshape(T, 2 * L))\n",
    "\n",
    "output = sess.run((p_output_predicted), feed_dict={ p_input : np.asarray(inputs)})\n"
   ]
  },
  {
   "cell_type": "code",
   "execution_count": 16,
   "metadata": {
    "collapsed": false,
    "scrolled": true
   },
   "outputs": [
    {
     "name": "stdout",
     "output_type": "stream",
     "text": [
      "4.7266137076\n",
      "5.26089593657\n",
      "5.7321359288\n",
      "6.2687101831\n",
      "6.66876115577\n",
      "7.07075108717\n",
      "7.56185030623\n",
      "7.93553100698\n",
      "8.20991971586\n",
      "8.51644090664\n"
     ]
    }
   ],
   "source": [
    "for i in range(T):\n",
    "    print(np.mean(np.linalg.norm(\n",
    "        output.reshape((1, T, 13, 2))[:,i,:,:] - np.array(expected_outputs).reshape((1, T, 13, 2))[:,i,:,:],\n",
    "        axis=2)))"
   ]
  },
  {
   "cell_type": "code",
   "execution_count": 17,
   "metadata": {
    "collapsed": false,
    "scrolled": true
   },
   "outputs": [
    {
     "name": "stdout",
     "output_type": "stream",
     "text": [
      "T =  0\n"
     ]
    },
    {
     "data": {
      "image/png": "[encoded data removed]",
      "text/plain": [
       "<matplotlib.figure.Figure at 0x7f5c6c030510>"
      ]
     },
     "metadata": {},
     "output_type": "display_data"
    },
    {
     "name": "stdout",
     "output_type": "stream",
     "text": [
      "T =  1\n"
     ]
    },
    {
     "data": {
      "image/png": "[encoded data removed]",
      "text/plain": [
       "<matplotlib.figure.Figure at 0x7f5c5c2a1350>"
      ]
     },
     "metadata": {},
     "output_type": "display_data"
    },
    {
     "name": "stdout",
     "output_type": "stream",
     "text": [
      "T =  2\n"
     ]
    },
    {
     "data": {
      "image/png": "[encoded data removed]",
      "text/plain": [
       "<matplotlib.figure.Figure at 0x7f5c5c0cdc50>"
      ]
     },
     "metadata": {},
     "output_type": "display_data"
    },
    {
     "name": "stdout",
     "output_type": "stream",
     "text": [
      "T =  3\n"
     ]
    },
    {
     "data": {
      "image/png": "[encoded data removed]",
      "text/plain": [
       "<matplotlib.figure.Figure at 0x7f5c5bf44ed0>"
      ]
     },
     "metadata": {},
     "output_type": "display_data"
    },
    {
     "name": "stdout",
     "output_type": "stream",
     "text": [
      "T =  4\n"
     ]
    },
    {
     "data": {
      "image/png": "[encoded data removed]",
      "text/plain": [
       "<matplotlib.figure.Figure at 0x7f5c5bee6550>"
      ]
     },
     "metadata": {},
     "output_type": "display_data"
    },
    {
     "name": "stdout",
     "output_type": "stream",
     "text": [
      "T =  5\n"
     ]
    },
    {
     "data": {
      "image/png": "[encoded data removed]",
      "text/plain": [
       "<matplotlib.figure.Figure at 0x7f5c5bcb0f10>"
      ]
     },
     "metadata": {},
     "output_type": "display_data"
    },
    {
     "name": "stdout",
     "output_type": "stream",
     "text": [
      "T =  6\n"
     ]
    },
    {
     "data": {
      "image/png": "[encoded data removed]",
      "text/plain": [
       "<matplotlib.figure.Figure at 0x7f5c5bf1ab10>"
      ]
     },
     "metadata": {},
     "output_type": "display_data"
    },
    {
     "name": "stdout",
     "output_type": "stream",
     "text": [
      "T =  7\n"
     ]
    },
    {
     "data": {
      "image/png": "[encoded data removed]",
      "text/plain": [
       "<matplotlib.figure.Figure at 0x7f5c5bd08f50>"
      ]
     },
     "metadata": {},
     "output_type": "display_data"
    },
    {
     "name": "stdout",
     "output_type": "stream",
     "text": [
      "T =  8\n"
     ]
    },
    {
     "data": {
      "image/png": "[encoded data removed]",
      "text/plain": [
       "<matplotlib.figure.Figure at 0x7f5c5c050e50>"
      ]
     },
     "metadata": {},
     "output_type": "display_data"
    },
    {
     "name": "stdout",
     "output_type": "stream",
     "text": [
      "T =  9\n"
     ]
    },
    {
     "data": {
      "image/png": "[encoded data removed]",
      "text/plain": [
       "<matplotlib.figure.Figure at 0x7f5c5be9ed10>"
      ]
     },
     "metadata": {},
     "output_type": "display_data"
    }
   ],
   "source": [
    "for i in range(T):\n",
    "    if i % 1 == 0:\n",
    "        image = i\n",
    "        print('T = ', i)\n",
    "        plt.subplot(1,2,1)\n",
    "        plt.imshow(np.zeros((1,1)), cmap = 'gray')\n",
    "        plt.scatter((output[0][image].reshape(13,2)).T[0], (output[0][image].reshape(13,2)).T[1])\n",
    "        plt.subplot(1,2,2)\n",
    "        plt.imshow(np.zeros((1,1)), cmap = 'gray')\n",
    "        plt.scatter((expected_outputs[0][image].reshape(13,2)).T[0], (expected_outputs[0][image].reshape(13,2)).T[1])\n",
    "        plt.show()"
   ]
  },
  {
   "cell_type": "code",
   "execution_count": 18,
   "metadata": {
    "collapsed": false,
    "scrolled": true
   },
   "outputs": [
    {
     "name": "stdout",
     "output_type": "stream",
     "text": [
      "T =  0\n",
      "[ 260.18701172  281.50054932  239.0113678     0.75159252  215.26197815\n",
      "    0.74830401  211.06455994  298.20483398  241.89675903  279.29220581\n",
      "  201.31648254    0.74944252    0.74729156] [  66.12117767   99.85990906   97.97193909    0.75453645  144.41882324\n",
      "    0.74843305  111.93614197  173.34648132  180.05879211  230.13313293\n",
      "  214.75587463    0.75216699    0.75083983]\n",
      "T =  1\n",
      "[ 260.65237427  281.98251343  239.43058777    0.75129718  215.68908691\n",
      "    0.74991006  211.45877075  298.73278809  242.32771301  279.79525757\n",
      "  201.7089386     0.74997979    0.74946529] [  66.23091125  100.05088806   98.11001587    0.75391477  144.71183777\n",
      "    0.74999166  112.14413452  173.67144775  180.41914368  230.56407166\n",
      "  215.18527222    0.75012195    0.7505762 ]\n",
      "T =  2\n",
      "[ 260.72354126  282.0562439   239.49472046    0.75124729  215.75444031\n",
      "    0.75018811  211.51908875  298.81350708  242.39364624  279.87225342\n",
      "  201.76898193    0.75005955    0.7498017 ] [  66.24774933  100.08007812   98.13111877    0.75380695  144.75665283\n",
      "    0.75023323  112.17591095  173.72116089  180.47428894  230.62997437\n",
      "  215.25097656    0.74976742    0.75051785]\n",
      "T =  3\n",
      "[ 260.7333374   282.06640625  239.50354004    0.75124037  215.76342773\n",
      "    0.75022703  211.52740479  298.824646    242.40272522  279.88287354\n",
      "  201.77726746    0.75007087    0.74984837] [  66.25006866  100.08410645   98.13401794    0.75379175  144.76281738\n",
      "    0.75026643  112.18028259  173.72801208  180.48187256  230.6390686\n",
      "  215.26002502    0.74971801    0.75050932]\n",
      "T =  4\n",
      "[ 260.73468018  282.06777954  239.50476074    0.7512393   215.7646637\n",
      "    0.7502321   211.52851868  298.82614136  242.40396118  279.88430786\n",
      "  201.77839661    0.75007242    0.7498548 ] [  66.2503891   100.08464813   98.13440704    0.75378948  144.76365662\n",
      "    0.75027102  112.18088531  173.72895813  180.48292542  230.64028931\n",
      "  215.26126099    0.74971122    0.75050813]\n",
      "T =  5\n",
      "[ 260.73486328  282.06796265  239.50491333    0.75123936  215.76481628\n",
      "    0.75023282  211.52868652  298.82635498  242.40412903  279.88452148\n",
      "  201.77854919    0.75007254    0.74985546] [  66.25042725  100.08472443   98.13446808    0.75378937  144.76376343\n",
      "    0.75027162  112.18096161  173.7290802   180.48306274  230.64044189\n",
      "  215.26142883    0.74971032    0.75050789]\n",
      "T =  6\n",
      "[ 260.7348938   282.06802368  239.50494385    0.75123924  215.7648468\n",
      "    0.75023299  211.52870178  298.82635498  242.40414429  279.88452148\n",
      "  201.77856445    0.75007254    0.74985564] [  66.25043488  100.08473969   98.13447571    0.75378931  144.76379395\n",
      "    0.75027168  112.1809845   173.72909546  180.483078    230.64048767\n",
      "  215.26144409    0.7497102     0.75050795]\n",
      "T =  7\n",
      "[ 260.7348938   282.06802368  239.50494385    0.75123936  215.7648468\n",
      "    0.75023299  211.52870178  298.82635498  242.40414429  279.88452148\n",
      "  201.77856445    0.75007254    0.7498557 ] [  66.25043488  100.08473969   98.13447571    0.75378931  144.76379395\n",
      "    0.75027168  112.1809845   173.72909546  180.483078    230.64048767\n",
      "  215.26144409    0.74971014    0.75050789]\n",
      "T =  8\n",
      "[ 260.7348938   282.06802368  239.50494385    0.75123936  215.7648468\n",
      "    0.75023293  211.52870178  298.82635498  242.40414429  279.88452148\n",
      "  201.77856445    0.75007242    0.74985576] [  66.25043488  100.08473969   98.13447571    0.75378925  144.76379395\n",
      "    0.75027162  112.1809845   173.72909546  180.483078    230.64048767\n",
      "  215.26144409    0.74971014    0.75050795]\n",
      "T =  9\n",
      "[ 260.7348938   282.06802368  239.50494385    0.75123942  215.7648468\n",
      "    0.75023299  211.52870178  298.82635498  242.40414429  279.88452148\n",
      "  201.77856445    0.75007242    0.74985576] [  66.25043488  100.08473969   98.13447571    0.75378925  144.76379395\n",
      "    0.75027162  112.1809845   173.72909546  180.483078    230.64048767\n",
      "  215.26144409    0.7497102     0.75050795]\n"
     ]
    }
   ],
   "source": [
    "for i in range(T):\n",
    "    if i % 1 == 0:\n",
    "        image = i\n",
    "        print('T = ', i)\n",
    "        print((output[0][image].reshape(13,2)).T[0], (output[0][image].reshape(13,2)).T[1])"
   ]
  },
  {
   "cell_type": "code",
   "execution_count": 28,
   "metadata": {
    "collapsed": false
   },
   "outputs": [
    {
     "data": {
      "text/plain": [
       "'lstm-reg-20000'"
      ]
     },
     "execution_count": 28,
     "metadata": {},
     "output_type": "execute_result"
    }
   ],
   "source": [
    "saver = tf.train.Saver()\n",
    "saver.save(sess, 'lstm-reg', global_step=20000)"
   ]
  },
  {
   "cell_type": "code",
   "execution_count": null,
   "metadata": {
    "collapsed": true
   },
   "outputs": [],
   "source": []
  }
 ],
 "metadata": {
  "anaconda-cloud": {},
  "kernelspec": {
   "display_name": "Python [Root]",
   "language": "python",
   "name": "Python [Root]"
  },
  "language_info": {
   "codemirror_mode": {
    "name": "ipython",
    "version": 2
   },
   "file_extension": ".py",
   "mimetype": "text/x-python",
   "name": "python",
   "nbconvert_exporter": "python",
   "pygments_lexer": "ipython2",
   "version": "2.7.12"
  }
 },
 "nbformat": 4,
 "nbformat_minor": 2
}
