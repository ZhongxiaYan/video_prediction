{
 "cells": [
  {
   "cell_type": "code",
   "execution_count": 1,
   "metadata": {
    "collapsed": true
   },
   "outputs": [],
   "source": [
    "%matplotlib inline\n",
    "import matplotlib.pyplot as plt\n",
    "import numpy as np\n",
    "from scipy.io import loadmat\n",
    "from scipy.misc import imsave\n",
    "from skimage.draw import circle\n",
    "from scipy.ndimage.filters import gaussian_filter\n",
    "import os"
   ]
  },
  {
   "cell_type": "code",
   "execution_count": 2,
   "metadata": {
    "collapsed": false
   },
   "outputs": [
    {
     "name": "stdout",
     "output_type": "stream",
     "text": [
      "['nframes', 'dimensions', 'pose', '__header__', 'visibility', '__globals__', 'y', 'train', 'bbox', 'action', 'x', '__version__']\n"
     ]
    }
   ],
   "source": [
    "annotations = loadmat('labels/0001.mat')\n",
    "print annotations.keys()"
   ]
  },
  {
   "cell_type": "markdown",
   "metadata": {},
   "source": [
    "# Analogy Network Preprocessing"
   ]
  },
  {
   "cell_type": "markdown",
   "metadata": {},
   "source": [
    "## Stacked Joints (1 image for 13 joints)"
   ]
  },
  {
   "cell_type": "code",
   "execution_count": 4,
   "metadata": {
    "collapsed": true
   },
   "outputs": [],
   "source": [
    "radius = 5\n",
    "gaussian_sigma = 5\n",
    "\n",
    "directory = 'labels/'\n",
    "# Create this out_directory\n",
    "out_directory = 'squats_labels/'\n",
    "\n",
    "for filename in os.listdir(directory):\n",
    "    annotations = loadmat(directory + filename)\n",
    "    visibility = annotations['visibility']\n",
    "    if annotations['action'] == 'squat':\n",
    "        # Create stack of zero initialized images for joints\n",
    "        vol = np.zeros(annotations['dimensions'][0])\n",
    "        X = annotations['x']\n",
    "        Y = annotations['y']\n",
    "        for i in range(vol.shape[2]):\n",
    "            for j in range(visibility.shape[1]):\n",
    "    #             if visibility[i][j] == 1:\n",
    "                coords = circle(X[i][j],Y[i][j],radius)\n",
    "                y_coords = coords[1]\n",
    "                x_coords = coords[0]\n",
    "\n",
    "                # Clip circle coordinate values, keep everything in bounds\n",
    "                y_coords[y_coords > vol.shape[0]-1] = vol.shape[0] - 1\n",
    "                x_coords[x_coords > vol.shape[1]-1] = vol.shape[1] - 1\n",
    "                y_coords[y_coords < 0] = 0\n",
    "                x_coords[x_coords < 0] = 0\n",
    "\n",
    "                # Draw circles\n",
    "                vol[coords[1],coords[0],i] = 255\n",
    "            vol[:,:,i] = gaussian_filter(vol[:,:,i],gaussian_sigma)\n",
    "        for i in range(vol.shape[2]):\n",
    "            folder = filename.split('.')[0] + '/'\n",
    "            if not os.path.exists(out_directory  + folder):\n",
    "                os.makedirs(out_directory + folder)\n",
    "            imsave(out_directory + folder + '%04d'%(i) + '.jpg', vol[:,:,i])"
   ]
  },
  {
   "cell_type": "markdown",
   "metadata": {},
   "source": [
    "## Individual joints (13 images, 1 per joint)"
   ]
  },
  {
   "cell_type": "code",
   "execution_count": null,
   "metadata": {
    "collapsed": false
   },
   "outputs": [],
   "source": [
    "radius = 5\n",
    "gaussian_sigma = 5\n",
    "\n",
    "directory = 'labels/'\n",
    "# Create this out_directory\n",
    "out_directory = 'squats_labels_multiple/'\n",
    "\n",
    "for filename in os.listdir(directory):\n",
    "    annotations = loadmat(directory + filename)\n",
    "    visibility = annotations['visibility']\n",
    "    if annotations['action'] == 'squat':\n",
    "        # Create stack of zero initialized images for joints\n",
    "        vol = np.zeros(np.concatenate((annotations['dimensions'][0],np.array([13]))))\n",
    "        X = annotations['x']\n",
    "        Y = annotations['y']\n",
    "        for i in range(vol.shape[2]):\n",
    "            for j in range(visibility.shape[1]):\n",
    "    #             if visibility[i][j] == 1:\n",
    "                coords = circle(X[i][j],Y[i][j],radius)\n",
    "                y_coords = coords[1]\n",
    "                x_coords = coords[0]\n",
    "\n",
    "                # Clip circle coordinate values, keep everything in bounds\n",
    "                y_coords[y_coords > vol.shape[0]-1] = vol.shape[0] - 1\n",
    "                x_coords[x_coords > vol.shape[1]-1] = vol.shape[1] - 1\n",
    "                y_coords[y_coords < 0] = 0\n",
    "                x_coords[x_coords < 0] = 0\n",
    "\n",
    "                # Draw circles\n",
    "                vol[coords[1],coords[0],i,j] = 255\n",
    "                vol[:,:,i,j] = gaussian_filter(vol[:,:,i,j],gaussian_sigma)\n",
    "        for i in range(vol.shape[2]):\n",
    "            for j in range(visibility.shape[1]):\n",
    "                folder = filename.split('.')[0] + '/'\n",
    "                if not os.path.exists(out_directory  + folder  + '%04d'%(i) + '/'):\n",
    "                    os.makedirs(out_directory + folder + '%04d'%(i) + '/')\n",
    "                imsave(out_directory + folder + '%04d'%(i) + '/' + str(j) + '.jpg', vol[:,:,i,j])"
   ]
  },
  {
   "cell_type": "code",
   "execution_count": null,
   "metadata": {
    "collapsed": true
   },
   "outputs": [],
   "source": []
  }
 ],
 "metadata": {
  "anaconda-cloud": {},
  "kernelspec": {
   "display_name": "Python [default]",
   "language": "python",
   "name": "python2"
  },
  "language_info": {
   "codemirror_mode": {
    "name": "ipython",
    "version": 2
   },
   "file_extension": ".py",
   "mimetype": "text/x-python",
   "name": "python",
   "nbconvert_exporter": "python",
   "pygments_lexer": "ipython2",
   "version": "2.7.13"
  }
 },
 "nbformat": 4,
 "nbformat_minor": 2
}
