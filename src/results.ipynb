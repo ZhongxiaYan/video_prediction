{
 "cells": [
  {
   "cell_type": "code",
   "execution_count": 26,
   "metadata": {
    "collapsed": true
   },
   "outputs": [],
   "source": [
    "from __future__ import division\n",
    "\n",
    "import numpy as np\n",
    "import tensorflow as tf\n",
    "\n",
    "%matplotlib inline\n",
    "import matplotlib.pyplot as plt\n",
    "import imageio\n",
    "\n",
    "import os, shutil\n",
    "\n",
    "from util import *"
   ]
  },
  {
   "cell_type": "code",
   "execution_count": 51,
   "metadata": {},
   "outputs": [],
   "source": [
    "def sample_strip(frames, directory, name, n):\n",
    "    output_path = os.path.join(directory, name) + '.png'\n",
    "    if os.path.exists(output_path):\n",
    "        return\n",
    "    step = (len(frames) - 1) // (n - 1)\n",
    "    sampled_frames = [frames[i] for i in range(0, len(frames), step)]\n",
    "    \n",
    "    plt.figure(figsize=(15, 15))\n",
    "    def subplot_frame(i, f):\n",
    "        plt.subplot(1, n, i)\n",
    "        if len(f.shape) == 2 or f.shape[2] == 1:\n",
    "            plt.imshow(f.reshape((224, 224)), cmap='gray')\n",
    "        else:\n",
    "            plt.imshow(f)\n",
    "        plt.axis('off')\n",
    "    for i, frame in enumerate(sampled_frames):\n",
    "        subplot_frame(i + 1, frame)\n",
    "    plt.subplots_adjust(wspace=0, hspace=0)\n",
    "    plt.savefig(output_path, bbox_inches='tight')\n",
    "    plt.close()\n",
    "        \n",
    "def sample_frame_gif(directory, name, n):\n",
    "    frames = imageio.mimread(os.path.join(directory, name) + '.gif')\n",
    "    sample_strip(frames, directory, name, n)\n",
    "\n",
    "def sample_frame_mp4(directory, name, n):\n",
    "    reader = imageio.get_reader(directory + name + '.mp4')\n",
    "    frames = [im for im in reader]\n",
    "    sample_strip(frames, directory, name, n)\n",
    "    \n",
    "def sample_frames(directory, n=6):\n",
    "    names = os.listdir(directory)\n",
    "    for name in names:\n",
    "        path = os.path.join(directory, name)\n",
    "        if os.path.islink(path):\n",
    "            path = os.readlink(path)\n",
    "        if os.path.isdir(path):\n",
    "            sample_frames(path)\n",
    "        elif path.endswith('.gif'):\n",
    "            sample_frame_gif(directory, name[:-4], n)\n",
    "        elif path.endswith('.mp4'):\n",
    "            sample_frame_mp4(directory, name[:-4], n)"
   ]
  },
  {
   "cell_type": "code",
   "execution_count": 53,
   "metadata": {},
   "outputs": [
    {
     "ename": "NeedDownloadError",
     "evalue": "Need ffmpeg exe. You can obtain it with either:\n  - install using conda: conda install ffmpeg -c conda-forge\n  - download by calling: imageio.plugins.ffmpeg.download()",
     "output_type": "error",
     "traceback": [
      "\u001b[0;31m---------------------------------------------------------------------------\u001b[0m",
      "\u001b[0;31mNeedDownloadError\u001b[0m                         Traceback (most recent call last)",
      "\u001b[0;32m<ipython-input-53-636dc1febad7>\u001b[0m in \u001b[0;36m<module>\u001b[0;34m()\u001b[0m\n\u001b[0;32m----> 1\u001b[0;31m \u001b[0msample_frames\u001b[0m\u001b[0;34m(\u001b[0m\u001b[0mResults\u001b[0m \u001b[0;34m+\u001b[0m \u001b[0;34m'lstm/'\u001b[0m\u001b[0;34m)\u001b[0m\u001b[0;34m\u001b[0m\u001b[0m\n\u001b[0m",
      "\u001b[0;32m<ipython-input-51-3fed03fe8926>\u001b[0m in \u001b[0;36msample_frames\u001b[0;34m(directory, n)\u001b[0m\n\u001b[1;32m     40\u001b[0m             \u001b[0msample_frame_gif\u001b[0m\u001b[0;34m(\u001b[0m\u001b[0mdirectory\u001b[0m\u001b[0;34m,\u001b[0m \u001b[0mname\u001b[0m\u001b[0;34m[\u001b[0m\u001b[0;34m:\u001b[0m\u001b[0;34m-\u001b[0m\u001b[0;36m4\u001b[0m\u001b[0;34m]\u001b[0m\u001b[0;34m,\u001b[0m \u001b[0mn\u001b[0m\u001b[0;34m)\u001b[0m\u001b[0;34m\u001b[0m\u001b[0m\n\u001b[1;32m     41\u001b[0m         \u001b[0;32melif\u001b[0m \u001b[0mpath\u001b[0m\u001b[0;34m.\u001b[0m\u001b[0mendswith\u001b[0m\u001b[0;34m(\u001b[0m\u001b[0;34m'.mp4'\u001b[0m\u001b[0;34m)\u001b[0m\u001b[0;34m:\u001b[0m\u001b[0;34m\u001b[0m\u001b[0m\n\u001b[0;32m---> 42\u001b[0;31m             \u001b[0msample_frame_mp4\u001b[0m\u001b[0;34m(\u001b[0m\u001b[0mdirectory\u001b[0m\u001b[0;34m,\u001b[0m \u001b[0mname\u001b[0m\u001b[0;34m[\u001b[0m\u001b[0;34m:\u001b[0m\u001b[0;34m-\u001b[0m\u001b[0;36m4\u001b[0m\u001b[0;34m]\u001b[0m\u001b[0;34m,\u001b[0m \u001b[0mn\u001b[0m\u001b[0;34m)\u001b[0m\u001b[0;34m\u001b[0m\u001b[0m\n\u001b[0m",
      "\u001b[0;32m<ipython-input-51-3fed03fe8926>\u001b[0m in \u001b[0;36msample_frame_mp4\u001b[0;34m(directory, name, n)\u001b[0m\n\u001b[1;32m     25\u001b[0m \u001b[0;34m\u001b[0m\u001b[0m\n\u001b[1;32m     26\u001b[0m \u001b[0;32mdef\u001b[0m \u001b[0msample_frame_mp4\u001b[0m\u001b[0;34m(\u001b[0m\u001b[0mdirectory\u001b[0m\u001b[0;34m,\u001b[0m \u001b[0mname\u001b[0m\u001b[0;34m,\u001b[0m \u001b[0mn\u001b[0m\u001b[0;34m)\u001b[0m\u001b[0;34m:\u001b[0m\u001b[0;34m\u001b[0m\u001b[0m\n\u001b[0;32m---> 27\u001b[0;31m     \u001b[0mreader\u001b[0m \u001b[0;34m=\u001b[0m \u001b[0mimageio\u001b[0m\u001b[0;34m.\u001b[0m\u001b[0mget_reader\u001b[0m\u001b[0;34m(\u001b[0m\u001b[0mdirectory\u001b[0m \u001b[0;34m+\u001b[0m \u001b[0mname\u001b[0m \u001b[0;34m+\u001b[0m \u001b[0;34m'.mp4'\u001b[0m\u001b[0;34m)\u001b[0m\u001b[0;34m\u001b[0m\u001b[0m\n\u001b[0m\u001b[1;32m     28\u001b[0m     \u001b[0mframes\u001b[0m \u001b[0;34m=\u001b[0m \u001b[0;34m[\u001b[0m\u001b[0mim\u001b[0m \u001b[0;32mfor\u001b[0m \u001b[0mim\u001b[0m \u001b[0;32min\u001b[0m \u001b[0mreader\u001b[0m\u001b[0;34m]\u001b[0m\u001b[0;34m\u001b[0m\u001b[0m\n\u001b[1;32m     29\u001b[0m     \u001b[0msample_strip\u001b[0m\u001b[0;34m(\u001b[0m\u001b[0mframes\u001b[0m\u001b[0;34m,\u001b[0m \u001b[0mdirectory\u001b[0m\u001b[0;34m,\u001b[0m \u001b[0mname\u001b[0m\u001b[0;34m,\u001b[0m \u001b[0mn\u001b[0m\u001b[0;34m)\u001b[0m\u001b[0;34m\u001b[0m\u001b[0m\n",
      "\u001b[0;32m/home/jeffz/anaconda2/lib/python2.7/site-packages/imageio/core/functions.pyc\u001b[0m in \u001b[0;36mget_reader\u001b[0;34m(uri, format, mode, **kwargs)\u001b[0m\n\u001b[1;32m    127\u001b[0m \u001b[0;34m\u001b[0m\u001b[0m\n\u001b[1;32m    128\u001b[0m     \u001b[0;31m# Return its reader object\u001b[0m\u001b[0;34m\u001b[0m\u001b[0;34m\u001b[0m\u001b[0m\n\u001b[0;32m--> 129\u001b[0;31m     \u001b[0;32mreturn\u001b[0m \u001b[0mformat\u001b[0m\u001b[0;34m.\u001b[0m\u001b[0mget_reader\u001b[0m\u001b[0;34m(\u001b[0m\u001b[0mrequest\u001b[0m\u001b[0;34m)\u001b[0m\u001b[0;34m\u001b[0m\u001b[0m\n\u001b[0m\u001b[1;32m    130\u001b[0m \u001b[0;34m\u001b[0m\u001b[0m\n\u001b[1;32m    131\u001b[0m \u001b[0;34m\u001b[0m\u001b[0m\n",
      "\u001b[0;32m/home/jeffz/anaconda2/lib/python2.7/site-packages/imageio/core/format.pyc\u001b[0m in \u001b[0;36mget_reader\u001b[0;34m(self, request)\u001b[0m\n\u001b[1;32m    167\u001b[0m             raise RuntimeError('Format %s cannot read in mode %r' % \n\u001b[1;32m    168\u001b[0m                                (self.name, select_mode))\n\u001b[0;32m--> 169\u001b[0;31m         \u001b[0;32mreturn\u001b[0m \u001b[0mself\u001b[0m\u001b[0;34m.\u001b[0m\u001b[0mReader\u001b[0m\u001b[0;34m(\u001b[0m\u001b[0mself\u001b[0m\u001b[0;34m,\u001b[0m \u001b[0mrequest\u001b[0m\u001b[0;34m)\u001b[0m\u001b[0;34m\u001b[0m\u001b[0m\n\u001b[0m\u001b[1;32m    170\u001b[0m \u001b[0;34m\u001b[0m\u001b[0m\n\u001b[1;32m    171\u001b[0m     \u001b[0;32mdef\u001b[0m \u001b[0mget_writer\u001b[0m\u001b[0;34m(\u001b[0m\u001b[0mself\u001b[0m\u001b[0;34m,\u001b[0m \u001b[0mrequest\u001b[0m\u001b[0;34m)\u001b[0m\u001b[0;34m:\u001b[0m\u001b[0;34m\u001b[0m\u001b[0m\n",
      "\u001b[0;32m/home/jeffz/anaconda2/lib/python2.7/site-packages/imageio/core/format.pyc\u001b[0m in \u001b[0;36m__init__\u001b[0;34m(self, format, request)\u001b[0m\n\u001b[1;32m    216\u001b[0m             \u001b[0mself\u001b[0m\u001b[0;34m.\u001b[0m\u001b[0m_request\u001b[0m \u001b[0;34m=\u001b[0m \u001b[0mrequest\u001b[0m\u001b[0;34m\u001b[0m\u001b[0m\n\u001b[1;32m    217\u001b[0m             \u001b[0;31m# Open the reader/writer\u001b[0m\u001b[0;34m\u001b[0m\u001b[0;34m\u001b[0m\u001b[0m\n\u001b[0;32m--> 218\u001b[0;31m             \u001b[0mself\u001b[0m\u001b[0;34m.\u001b[0m\u001b[0m_open\u001b[0m\u001b[0;34m(\u001b[0m\u001b[0;34m**\u001b[0m\u001b[0mself\u001b[0m\u001b[0;34m.\u001b[0m\u001b[0mrequest\u001b[0m\u001b[0;34m.\u001b[0m\u001b[0mkwargs\u001b[0m\u001b[0;34m.\u001b[0m\u001b[0mcopy\u001b[0m\u001b[0;34m(\u001b[0m\u001b[0;34m)\u001b[0m\u001b[0;34m)\u001b[0m\u001b[0;34m\u001b[0m\u001b[0m\n\u001b[0m\u001b[1;32m    219\u001b[0m \u001b[0;34m\u001b[0m\u001b[0m\n\u001b[1;32m    220\u001b[0m         \u001b[0;34m@\u001b[0m\u001b[0mproperty\u001b[0m\u001b[0;34m\u001b[0m\u001b[0m\n",
      "\u001b[0;32m/home/jeffz/anaconda2/lib/python2.7/site-packages/imageio/plugins/ffmpeg.pyc\u001b[0m in \u001b[0;36m_open\u001b[0;34m(self, loop, size, pixelformat, ffmpeg_params, print_info)\u001b[0m\n\u001b[1;32m    288\u001b[0m                   ffmpeg_params=None, print_info=False):\n\u001b[1;32m    289\u001b[0m             \u001b[0;31m# Get exe\u001b[0m\u001b[0;34m\u001b[0m\u001b[0;34m\u001b[0m\u001b[0m\n\u001b[0;32m--> 290\u001b[0;31m             \u001b[0mself\u001b[0m\u001b[0;34m.\u001b[0m\u001b[0m_exe\u001b[0m \u001b[0;34m=\u001b[0m \u001b[0mself\u001b[0m\u001b[0;34m.\u001b[0m\u001b[0m_get_exe\u001b[0m\u001b[0;34m(\u001b[0m\u001b[0;34m)\u001b[0m\u001b[0;34m\u001b[0m\u001b[0m\n\u001b[0m\u001b[1;32m    291\u001b[0m             \u001b[0;31m# Process input args\u001b[0m\u001b[0;34m\u001b[0m\u001b[0;34m\u001b[0m\u001b[0m\n\u001b[1;32m    292\u001b[0m             \u001b[0mself\u001b[0m\u001b[0;34m.\u001b[0m\u001b[0m_arg_loop\u001b[0m \u001b[0;34m=\u001b[0m \u001b[0mbool\u001b[0m\u001b[0;34m(\u001b[0m\u001b[0mloop\u001b[0m\u001b[0;34m)\u001b[0m\u001b[0;34m\u001b[0m\u001b[0m\n",
      "\u001b[0;32m/home/jeffz/anaconda2/lib/python2.7/site-packages/imageio/plugins/ffmpeg.pyc\u001b[0m in \u001b[0;36m_get_exe\u001b[0;34m(cls)\u001b[0m\n\u001b[1;32m    240\u001b[0m         \u001b[0;34m@\u001b[0m\u001b[0mclassmethod\u001b[0m\u001b[0;34m\u001b[0m\u001b[0m\n\u001b[1;32m    241\u001b[0m         \u001b[0;32mdef\u001b[0m \u001b[0m_get_exe\u001b[0m\u001b[0;34m(\u001b[0m\u001b[0mcls\u001b[0m\u001b[0;34m)\u001b[0m\u001b[0;34m:\u001b[0m\u001b[0;34m\u001b[0m\u001b[0m\n\u001b[0;32m--> 242\u001b[0;31m             \u001b[0mcls\u001b[0m\u001b[0;34m.\u001b[0m\u001b[0m_exe\u001b[0m \u001b[0;34m=\u001b[0m \u001b[0mcls\u001b[0m\u001b[0;34m.\u001b[0m\u001b[0m_exe\u001b[0m \u001b[0;32mor\u001b[0m \u001b[0mget_exe\u001b[0m\u001b[0;34m(\u001b[0m\u001b[0;34m)\u001b[0m\u001b[0;34m\u001b[0m\u001b[0m\n\u001b[0m\u001b[1;32m    243\u001b[0m             \u001b[0;32mreturn\u001b[0m \u001b[0mcls\u001b[0m\u001b[0;34m.\u001b[0m\u001b[0m_exe\u001b[0m\u001b[0;34m\u001b[0m\u001b[0m\n\u001b[1;32m    244\u001b[0m \u001b[0;34m\u001b[0m\u001b[0m\n",
      "\u001b[0;32m/home/jeffz/anaconda2/lib/python2.7/site-packages/imageio/plugins/ffmpeg.pyc\u001b[0m in \u001b[0;36mget_exe\u001b[0;34m()\u001b[0m\n\u001b[1;32m    101\u001b[0m             \u001b[0;32mreturn\u001b[0m \u001b[0mexe\u001b[0m\u001b[0;34m\u001b[0m\u001b[0m\n\u001b[1;32m    102\u001b[0m         \u001b[0;32mexcept\u001b[0m \u001b[0mNeedDownloadError\u001b[0m\u001b[0;34m:\u001b[0m\u001b[0;34m\u001b[0m\u001b[0m\n\u001b[0;32m--> 103\u001b[0;31m             raise NeedDownloadError('Need ffmpeg exe. '\n\u001b[0m\u001b[1;32m    104\u001b[0m                                     \u001b[0;34m'You can obtain it with either:\\n'\u001b[0m\u001b[0;34m\u001b[0m\u001b[0m\n\u001b[1;32m    105\u001b[0m                                     \u001b[0;34m'  - install using conda: '\u001b[0m\u001b[0;34m\u001b[0m\u001b[0m\n",
      "\u001b[0;31mNeedDownloadError\u001b[0m: Need ffmpeg exe. You can obtain it with either:\n  - install using conda: conda install ffmpeg -c conda-forge\n  - download by calling: imageio.plugins.ffmpeg.download()"
     ]
    }
   ],
   "source": [
    "sample_frames(Results + 'lstm/')"
   ]
  },
  {
   "cell_type": "code",
   "execution_count": 22,
   "metadata": {
    "collapsed": true
   },
   "outputs": [],
   "source": [
    "sample_frames(Root + 'models')"
   ]
  },
  {
   "cell_type": "code",
   "execution_count": 45,
   "metadata": {
    "collapsed": true
   },
   "outputs": [],
   "source": [
    "selected_vids = {\n",
    "    'baseball_pitch': '0050',\n",
    "    'baseball_swing': '0280',\n",
    "    'bench_press': '0445',\n",
    "    'bowl': '0544',\n",
    "    'clean_and_jerk': '0721',\n",
    "    'golf_swing': '0835',\n",
    "    'jump_rope': '0992',\n",
    "    'jumping_jacks': '1142',\n",
    "    'pullup': '1198',\n",
    "    'pushup': '1370',\n",
    "    'squat': '1755',\n",
    "    'tennis_serve': '2319',\n",
    "}"
   ]
  },
  {
   "cell_type": "code",
   "execution_count": 46,
   "metadata": {
    "collapsed": true
   },
   "outputs": [],
   "source": [
    "for subdir in 'videos_224/', 'videos_same_bbox_224/':\n",
    "    input_dir = Data + subdir\n",
    "    output_dir = Results\n",
    "    make_dir(output_dir)\n",
    "    for action, number in selected_vids.items():\n",
    "        action_dir = output_dir + action + '/'\n",
    "        make_dir(action_dir)\n",
    "        if subdir.startswith('videos_224'):\n",
    "            output_gif = action_dir + 'true_full.gif'\n",
    "        else:\n",
    "            output_gif = action_dir + 'true.gif'\n",
    "        imageio.mimsave(output_gif, np.load(input_dir + number + '.npy'))"
   ]
  },
  {
   "cell_type": "code",
   "execution_count": null,
   "metadata": {
    "collapsed": true
   },
   "outputs": [],
   "source": [
    "videos_to_copy = {\n",
    "    'villegas_combined_conv4/adam_l2_100_feat' : ('adam_feat', 'all'),\n",
    "    'villegas_l2_baseline/default' : ('l2', 'baseball_pitch'),\n",
    "\n",
    "    'villegas_combined/rgb_L_13_full' : ('sgd_full', 'squat'),\n",
    "    \n",
    "    'villegas_combined_conv2/rgb_L_13_cropped_consistent' : ('sgd_conv2', 'squat'),\n",
    "    'villegas_combined/rgb_L_13_cropped_consistent' : ('sgd_conv3', 'squat'),\n",
    "    'villegas_combined_conv4/rgb_L_13_cropped_consistent' : ('sgd_conv4', ['baseball_pitch', 'squat']),\n",
    "    'villegas_combined_conv5/rgb_L_13_cropped_consistent' : ('sgd_conv5', 'squat'),\n",
    "}"
   ]
  },
  {
   "cell_type": "code",
   "execution_count": 47,
   "metadata": {
    "collapsed": true
   },
   "outputs": [],
   "source": [
    "for subdir, (name, actions) in videos_to_copy.items():\n",
    "    if actions == 'all':\n",
    "        actions = list(selected_vids.keys())\n",
    "    elif type(actions) == str:\n",
    "        actions = [actions]\n",
    "    base_dir = Models + subdir + '/test/'\n",
    "    max_time_subdir = max(os.listdir(base_dir), key=lambda y: int(y[len('output-'):]))\n",
    "    base_dir += max_time_subdir + '/'\n",
    "    for action in actions:\n",
    "        orig_file = base_dir + action + '/' + selected_vids[action] + '.gif'\n",
    "        copied_file = Results + action + '/' + name + '.gif'\n",
    "        shutil.copy(orig_file, copied_file)"
   ]
  }
 ],
 "metadata": {
  "kernelspec": {
   "display_name": "Python 2",
   "language": "python",
   "name": "python2"
  },
  "language_info": {
   "codemirror_mode": {
    "name": "ipython",
    "version": 2
   },
   "file_extension": ".py",
   "mimetype": "text/x-python",
   "name": "python",
   "nbconvert_exporter": "python",
   "pygments_lexer": "ipython2",
   "version": "2.7.13"
  }
 },
 "nbformat": 4,
 "nbformat_minor": 2
}
