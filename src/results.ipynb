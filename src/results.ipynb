{
 "cells": [
  {
   "cell_type": "code",
   "execution_count": 26,
   "metadata": {
    "collapsed": true
   },
   "outputs": [],
   "source": [
    "from __future__ import division\n",
    "\n",
    "import numpy as np\n",
    "import tensorflow as tf\n",
    "\n",
    "%matplotlib inline\n",
    "import matplotlib.pyplot as plt\n",
    "import imageio\n",
    "\n",
    "import os, shutil\n",
    "\n",
    "from util import *"
   ]
  },
  {
   "cell_type": "code",
   "execution_count": 18,
   "metadata": {
    "collapsed": true
   },
   "outputs": [],
   "source": [
    "def sample_strip(frames, directory, name, n):\n",
    "    output_path = os.path.join(directory, name) + '.png'\n",
    "    if os.path.exists(output_path):\n",
    "        return\n",
    "    step = (len(frames) - 1) // (n - 1)\n",
    "    sampled_frames = [frames[i] for i in range(0, len(frames), step)]\n",
    "    \n",
    "    plt.figure(figsize=(15, 15))\n",
    "    def subplot_frame(i, f):\n",
    "        plt.subplot(1, n, i)\n",
    "        if len(f.shape) == 2 or f.shape[2] == 1:\n",
    "            plt.imshow(f.reshape((224, 224)), cmap='gray')\n",
    "        else:\n",
    "            plt.imshow(f)\n",
    "        plt.axis('off')\n",
    "    for i, frame in enumerate(sampled_frames):\n",
    "        subplot_frame(i + 1, frame)\n",
    "    plt.subplots_adjust(wspace=0, hspace=0)\n",
    "    plt.savefig(output_path, bbox_inches='tight')\n",
    "    plt.close()\n",
    "        \n",
    "def sample_frame_gif(directory, name, n):\n",
    "    frames = imageio.mimread(os.path.join(directory, name) + '.gif')\n",
    "    sample_strip(frames, directory, name, n)\n",
    "\n",
    "def sample_frame_mp4(directory, name, n):\n",
    "    sample_strip(frames, directory, name, n)\n",
    "    \n",
    "def sample_frames(directory, n=6):\n",
    "    names = os.listdir(directory)\n",
    "    for name in names:\n",
    "        path = os.path.join(directory, name)\n",
    "        if os.path.islink(path):\n",
    "            path = os.readlink(path)\n",
    "        if os.path.isdir(path):\n",
    "            sample_frames(path)\n",
    "        elif path.endswith('.gif'):\n",
    "            sample_frame_gif(directory, name[:-4], n)\n",
    "        elif path.endswith('.mp4'):\n",
    "            sample_frame_mp4(directory, name[:-4], n)"
   ]
  },
  {
   "cell_type": "code",
   "execution_count": 22,
   "metadata": {
    "collapsed": true
   },
   "outputs": [],
   "source": [
    "sample_frames(Root + 'models')"
   ]
  },
  {
   "cell_type": "code",
   "execution_count": 45,
   "metadata": {
    "collapsed": true
   },
   "outputs": [],
   "source": [
    "selected_vids = {\n",
    "    'baseball_pitch': '0050',\n",
    "    'baseball_swing': '0280',\n",
    "    'bench_press': '0445',\n",
    "    'bowl': '0544',\n",
    "    'clean_and_jerk': '0721',\n",
    "    'golf_swing': '0835',\n",
    "    'jump_rope': '0992',\n",
    "    'jumping_jacks': '1142',\n",
    "    'pullup': '1198',\n",
    "    'pushup': '1370',\n",
    "    'squat': '1755',\n",
    "    'tennis_serve': '2319',\n",
    "}"
   ]
  },
  {
   "cell_type": "code",
   "execution_count": 46,
   "metadata": {},
   "outputs": [],
   "source": [
    "for subdir in 'videos_224/', 'videos_same_bbox_224/':\n",
    "    input_dir = Data + subdir\n",
    "    output_dir = Results\n",
    "    make_dir(output_dir)\n",
    "    for action, number in selected_vids.items():\n",
    "        action_dir = output_dir + action + '/'\n",
    "        make_dir(action_dir)\n",
    "        if subdir.startswith('videos_224'):\n",
    "            output_gif = action_dir + 'true_full.gif'\n",
    "        else:\n",
    "            output_gif = action_dir + 'true.gif'\n",
    "        imageio.mimsave(output_gif, np.load(input_dir + number + '.npy'))"
   ]
  },
  {
   "cell_type": "code",
   "execution_count": null,
   "metadata": {
    "collapsed": true
   },
   "outputs": [],
   "source": [
    "videos_to_copy = {\n",
    "    'villegas_combined_conv4/adam_l2_100_feat' : ('adam_feat', 'all'),\n",
    "    'villegas_l2_baseline/default' : ('l2', 'baseball_pitch'),\n",
    "\n",
    "    'villegas_combined/rgb_L_13_full' : ('sgd_full', 'squat'),\n",
    "    \n",
    "    'villegas_combined_conv2/rgb_L_13_cropped_consistent' : ('sgd_conv2', 'squat'),\n",
    "    'villegas_combined/rgb_L_13_cropped_consistent' : ('sgd_conv3', 'squat'),\n",
    "    'villegas_combined_conv4/rgb_L_13_cropped_consistent' : ('sgd_conv4', ['baseball_pitch', 'squat']),\n",
    "    'villegas_combined_conv5/rgb_L_13_cropped_consistent' : ('sgd_conv5', 'squat'),\n",
    "}"
   ]
  },
  {
   "cell_type": "code",
   "execution_count": null,
   "metadata": {},
   "outputs": [],
   "source": [
    "for subdir, (name, actions) in videos_to_copy.items():\n",
    "    if actions == 'all':\n",
    "        actions = list(selected_vids.keys())\n",
    "    elif type(actions) == str:\n",
    "        actions = [actions]\n",
    "    base_dir = Models + subdir + '/test/'\n",
    "    max_time_subdir = max(os.listdir(base_dir), key=lambda y: int(y[len('output-'):]))\n",
    "    base_dir += max_time_subdir + '/'\n",
    "    for action in actions:\n",
    "        orig_file = base_dir + action + '/' + selected_vids[action] + '.gif'\n",
    "        copied_file = Results + action + '/' + name + '.gif'\n",
    "        shutil.copy(orig_file, copied_file)"
   ]
  }
 ],
 "metadata": {
  "kernelspec": {
   "display_name": "Python 2",
   "language": "python",
   "name": "python2"
  },
  "language_info": {
   "codemirror_mode": {
    "name": "ipython",
    "version": 2
   },
   "file_extension": ".py",
   "mimetype": "text/x-python",
   "name": "python",
   "nbconvert_exporter": "python",
   "pygments_lexer": "ipython2",
   "version": "2.7.13"
  }
 },
 "nbformat": 4,
 "nbformat_minor": 2
}
