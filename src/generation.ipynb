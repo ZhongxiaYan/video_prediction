{
 "cells": [
  {
   "cell_type": "code",
   "execution_count": 9,
   "metadata": {
    "collapsed": true
   },
   "outputs": [],
   "source": [
    "from __future__ import division\n",
    "\n",
    "import numpy as np\n",
    "import tensorflow as tf\n",
    "\n",
    "%matplotlib inline\n",
    "import matplotlib.pyplot as plt\n",
    "import imageio\n",
    "\n",
    "import os\n",
    "\n",
    "from util import *"
   ]
  },
  {
   "cell_type": "code",
   "execution_count": 26,
   "metadata": {},
   "outputs": [],
   "source": [
    "def sample_strip(frames, directory, name, n):\n",
    "    step = (len(frames) - 1) // (n - 1)\n",
    "    sampled_frames = [frames[i] for i in range(0, len(frames), step)]\n",
    "\n",
    "    output_path = os.path.join(directory, name) + '.png'\n",
    "    if os.path.exists(output_path):\n",
    "        return\n",
    "    plt.figure(figsize=(15, 15))\n",
    "    def subplot_frame(i, f):\n",
    "        plt.subplot(1, n, i)\n",
    "        if len(f.shape) == 2 or f.shape[2] == 1:\n",
    "            plt.imshow(f.reshape((224, 224)), cmap='gray')\n",
    "        else:\n",
    "            plt.imshow(f)\n",
    "        plt.axis('off')\n",
    "    for i, frame in enumerate(sampled_frames):\n",
    "        subplot_frame(i + 1, frame)\n",
    "    plt.subplots_adjust(wspace=0, hspace=0)\n",
    "    plt.savefig(output_path, bbox_inches='tight')\n",
    "    plt.close()\n",
    "        \n",
    "def sample_frame_gif(directory, name, n):\n",
    "    frames = imageio.mimread(os.path.join(directory, name) + '.gif')\n",
    "    sample_strip(frames, directory, name, n)\n",
    "\n",
    "def sample_frame_mp4(directory, name, n):\n",
    "    sample_strip(frames, directory, name, n)\n",
    "    \n",
    "def sample_frames(directory, n=6):\n",
    "    names = os.listdir(directory)\n",
    "    for name in names:\n",
    "        path = os.path.join(directory, name)\n",
    "        if os.path.islink(path):\n",
    "            path = os.readlink(path)\n",
    "        if os.path.isdir(path):\n",
    "            sample_frames(path)\n",
    "        elif path.endswith('.gif'):\n",
    "            sample_frame_gif(directory, name[:-4], n)\n",
    "        elif path.endswith('.mp4'):\n",
    "            sample_frame_mp4(directory, name[:-4], n)"
   ]
  },
  {
   "cell_type": "code",
   "execution_count": 25,
   "metadata": {},
   "outputs": [],
   "source": [
    "sample_frames(Root + 'models/')"
   ]
  }
 ],
 "metadata": {
  "kernelspec": {
   "display_name": "Python 2",
   "language": "python",
   "name": "python2"
  },
  "language_info": {
   "codemirror_mode": {
    "name": "ipython",
    "version": 2
   },
   "file_extension": ".py",
   "mimetype": "text/x-python",
   "name": "python",
   "nbconvert_exporter": "python",
   "pygments_lexer": "ipython2",
   "version": "2.7.13"
  }
 },
 "nbformat": 4,
 "nbformat_minor": 2
}
