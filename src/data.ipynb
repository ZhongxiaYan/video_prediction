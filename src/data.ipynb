{
 "cells": [
  {
   "cell_type": "code",
   "execution_count": 1,
   "metadata": {},
   "outputs": [],
   "source": [
    "import numpy as np\n",
    "import matplotlib.pyplot as plt\n",
    "%matplotlib inline\n",
    "import tensorflow as tf\n",
    "\n",
    "from scipy.io import loadmat\n",
    "from scipy.misc import imread\n",
    "\n",
    "import os, pickle\n",
    "\n",
    "from util import *\n",
    "%load_ext autoreload\n",
    "%aimport util\n",
    "%autoreload 1"
   ]
  },
  {
   "cell_type": "code",
   "execution_count": null,
   "metadata": {},
   "outputs": [],
   "source": [
    "videos = {}\n",
    "squat_dir = Data + 'squats/'\n",
    "for video in os.listdir(squat_dir):\n",
    "    frames = []\n",
    "    video_dir = squat_dir + video + '/'\n",
    "    for frame in sorted(os.listdir(video_dir)):\n",
    "        path = video_dir + str(frame)\n",
    "        frames.append(imread(path))\n",
    "    videos[video] = np.array(frames)"
   ]
  },
  {
   "cell_type": "code",
   "execution_count": 32,
   "metadata": {},
   "outputs": [],
   "source": [
    "names = sorted(videos.keys())\n",
    "np.random.seed(0)\n",
    "np.random.shuffle(names)"
   ]
  },
  {
   "cell_type": "code",
   "execution_count": 34,
   "metadata": {},
   "outputs": [],
   "source": [
    "N = len(names)\n",
    "train_indices = int(0.8 * N)\n",
    "val_indices = int(0.1 * N)\n",
    "test_indices = int(0.1 * N)\n",
    "dataset_names = {\n",
    "    'train' : names[: train_indices],\n",
    "    'val' : names[train_indices : train_indices + val_indices],\n",
    "    'test' : names[train_indices + val_indices :]\n",
    "}"
   ]
  },
  {
   "cell_type": "code",
   "execution_count": 2,
   "metadata": {},
   "outputs": [],
   "source": [
    "labels_L_1 = {}\n",
    "squat_label_dir = Data + 'squat_labels/'\n",
    "for video in os.listdir(squat_label_dir):\n",
    "    frames = []\n",
    "    video_dir = squat_label_dir + video + '/'\n",
    "    for frame in sorted(os.listdir(video_dir)):\n",
    "        file = video_dir + frame\n",
    "        frames.append(imread(file).reshape((224, 224, 1)))\n",
    "    labels_L_1[video] = np.array(frames)"
   ]
  },
  {
   "cell_type": "code",
   "execution_count": 42,
   "metadata": {},
   "outputs": [],
   "source": [
    "for set_name, video_names in dataset_names.items():\n",
    "    set_dir = output_dir + set_name + '/'\n",
    "    make_dir(set_dir)\n",
    "    for name in video_names:\n",
    "        video_dir = set_dir + name\n",
    "        make_dir(video_dir)\n",
    "        np.save(video_dir + '/video', videos[name])\n",
    "        np.save(video_dir + '/poses_L_1', labels_L_1[name])"
   ]
  },
  {
   "cell_type": "code",
   "execution_count": 30,
   "metadata": {},
   "outputs": [],
   "source": [
    "labels_L_13 = {}\n",
    "squat_label_multiple_dir = Data + 'squats_labels_multiple/'\n",
    "for video in os.listdir(squat_label_multiple_dir):\n",
    "    frames = []\n",
    "    video_dir = squat_label_multiple_dir + video + '/'\n",
    "    for frame in sorted(os.listdir(video_dir)):\n",
    "        frame_dir = video_dir + frame + '/'\n",
    "        pose_stack = []\n",
    "        for file in sorted(os.listdir(frame_dir), key=lambda x: int(x[:-4])):\n",
    "            pose_stack.append(imread(frame_dir + file).reshape((224, 224, 1)))\n",
    "        frames.append(np.concatenate(pose_stack, axis=2))\n",
    "    labels_L_13[video] = np.array(frames)"
   ]
  }
 ],
 "metadata": {
  "kernelspec": {
   "display_name": "Python 3",
   "language": "python",
   "name": "python3"
  },
  "language_info": {
   "codemirror_mode": {
    "name": "ipython",
    "version": 3
   },
   "file_extension": ".py",
   "mimetype": "text/x-python",
   "name": "python",
   "nbconvert_exporter": "python",
   "pygments_lexer": "ipython3",
   "version": "3.5.2"
  }
 },
 "nbformat": 4,
 "nbformat_minor": 2
}
